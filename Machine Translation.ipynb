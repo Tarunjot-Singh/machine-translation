{
 "cells": [
  {
   "cell_type": "markdown",
   "metadata": {},
   "source": [
    "## Import the Required Libraries"
   ]
  },
  {
   "cell_type": "code",
   "execution_count": 1,
   "metadata": {},
   "outputs": [
    {
     "name": "stderr",
     "output_type": "stream",
     "text": [
      "Using TensorFlow backend.\n"
     ]
    }
   ],
   "source": [
    "import string\n",
    "import re\n",
    "from numpy import array, argmax, random, take\n",
    "import pandas as pd\n",
    "from keras.models import Sequential\n",
    "from keras.layers import Dense, LSTM, Embedding, RepeatVector\n",
    "from keras.preprocessing.text import Tokenizer\n",
    "from keras.callbacks import ModelCheckpoint\n",
    "from keras.preprocessing.sequence import pad_sequences\n",
    "from keras.models import load_model\n",
    "from keras import optimizers\n",
    "import matplotlib.pyplot as plt\n",
    "from sklearn.model_selection import train_test_split\n",
    "%matplotlib inline\n",
    "pd.set_option('display.max_colwidth', 200)"
   ]
  },
  {
   "cell_type": "code",
   "execution_count": 2,
   "metadata": {},
   "outputs": [],
   "source": [
    "# function to read raw text file\n",
    "def read_text(filename):\n",
    "    # open the file\n",
    "    file = open(filename, mode='rt', encoding='utf-8')\n",
    "\n",
    "    # read all text\n",
    "    text = file.read()\n",
    "    file.close()\n",
    "    return text"
   ]
  },
  {
   "cell_type": "code",
   "execution_count": 3,
   "metadata": {},
   "outputs": [],
   "source": [
    "# split a text into sentences\n",
    "def to_lines(text):\n",
    "    # Spiliting on basic of space\n",
    "    sents = text.strip().split('\\n')\n",
    "    # Spliting on basic of tab Space\n",
    "    sents = [i.split('\\t') for i in sents]\n",
    "    return sents"
   ]
  },
  {
   "cell_type": "code",
   "execution_count": 4,
   "metadata": {},
   "outputs": [],
   "source": [
    "# Calling the read and then split function on the dataset\n",
    "data = read_text(\"deu.txt\")\n",
    "deu_eng = to_lines(data)\n",
    "deu_eng = array(deu_eng)"
   ]
  },
  {
   "cell_type": "code",
   "execution_count": 5,
   "metadata": {},
   "outputs": [
    {
     "data": {
      "text/plain": [
       "array([['Go.', 'Geh.',\n",
       "        'CC-BY 2.0 (France) Attribution: tatoeba.org #2877272 (CM) & #8597805 (Roujin)'],\n",
       "       ['Hi.', 'Hallo!',\n",
       "        'CC-BY 2.0 (France) Attribution: tatoeba.org #538123 (CM) & #380701 (cburgmer)'],\n",
       "       ['Hi.', 'Grüß Gott!',\n",
       "        'CC-BY 2.0 (France) Attribution: tatoeba.org #538123 (CM) & #659813 (Esperantostern)'],\n",
       "       ...,\n",
       "       [\"It's a good thing that you showed up.\",\n",
       "        'Es ist gut, dass du vorbeigekommen bist.',\n",
       "        'CC-BY 2.0 (France) Attribution: tatoeba.org #8216127 (CK) & #8220797 (MisterTrouser)'],\n",
       "       [\"It's a lot of fun to listen to music.\",\n",
       "        'Musik zu hören macht sehr viel Spaß.',\n",
       "        'CC-BY 2.0 (France) Attribution: tatoeba.org #7810549 (CM) & #330601 (Sprachprofi)'],\n",
       "       [\"It's a matter of personal preference.\",\n",
       "        'Das ist eine Frage des persönlichen Geschmacks.',\n",
       "        'CC-BY 2.0 (France) Attribution: tatoeba.org #4590023 (Hybrid) & #6932886 (Pfirsichbaeumchen)']],\n",
       "      dtype='<U537')"
      ]
     },
     "execution_count": 5,
     "metadata": {},
     "output_type": "execute_result"
    }
   ],
   "source": [
    "# Let’s first take a look at our data, Here I am using all the data for training\n",
    "# This dataset has around 150,000 sentence-pairs\n",
    "deu_eng = deu_eng[:150000,:]\n",
    "deu_eng"
   ]
  },
  {
   "cell_type": "markdown",
   "metadata": {},
   "source": [
    "In the dataset, we have to remove all the punctuation and convert to data to lower case."
   ]
  },
  {
   "cell_type": "markdown",
   "metadata": {},
   "source": [
    "## Data Pre-Processing"
   ]
  },
  {
   "cell_type": "code",
   "execution_count": 6,
   "metadata": {},
   "outputs": [
    {
     "data": {
      "text/plain": [
       "array([['Go', 'Geh',\n",
       "        'CC-BY 2.0 (France) Attribution: tatoeba.org #2877272 (CM) & #8597805 (Roujin)'],\n",
       "       ['Hi', 'Hallo',\n",
       "        'CC-BY 2.0 (France) Attribution: tatoeba.org #538123 (CM) & #380701 (cburgmer)'],\n",
       "       ['Hi', 'Grüß Gott',\n",
       "        'CC-BY 2.0 (France) Attribution: tatoeba.org #538123 (CM) & #659813 (Esperantostern)'],\n",
       "       ...,\n",
       "       ['Its a good thing that you showed up',\n",
       "        'Es ist gut dass du vorbeigekommen bist',\n",
       "        'CC-BY 2.0 (France) Attribution: tatoeba.org #8216127 (CK) & #8220797 (MisterTrouser)'],\n",
       "       ['Its a lot of fun to listen to music',\n",
       "        'Musik zu hören macht sehr viel Spaß',\n",
       "        'CC-BY 2.0 (France) Attribution: tatoeba.org #7810549 (CM) & #330601 (Sprachprofi)'],\n",
       "       ['Its a matter of personal preference',\n",
       "        'Das ist eine Frage des persönlichen Geschmacks',\n",
       "        'CC-BY 2.0 (France) Attribution: tatoeba.org #4590023 (Hybrid) & #6932886 (Pfirsichbaeumchen)']],\n",
       "      dtype='<U537')"
      ]
     },
     "execution_count": 6,
     "metadata": {},
     "output_type": "execute_result"
    }
   ],
   "source": [
    "# Remove punctuation\n",
    "deu_eng[:,0] = [s.translate(str.maketrans('', '', string.punctuation)) for s in deu_eng[:,0]]\n",
    "deu_eng[:,1] = [s.translate(str.maketrans('', '', string.punctuation)) for s in deu_eng[:,1]]\n",
    "deu_eng"
   ]
  },
  {
   "cell_type": "code",
   "execution_count": 7,
   "metadata": {},
   "outputs": [
    {
     "data": {
      "text/plain": [
       "array([['go', 'geh',\n",
       "        'CC-BY 2.0 (France) Attribution: tatoeba.org #2877272 (CM) & #8597805 (Roujin)'],\n",
       "       ['hi', 'hallo',\n",
       "        'CC-BY 2.0 (France) Attribution: tatoeba.org #538123 (CM) & #380701 (cburgmer)'],\n",
       "       ['hi', 'grüß gott',\n",
       "        'CC-BY 2.0 (France) Attribution: tatoeba.org #538123 (CM) & #659813 (Esperantostern)'],\n",
       "       ...,\n",
       "       ['its a good thing that you showed up',\n",
       "        'es ist gut dass du vorbeigekommen bist',\n",
       "        'CC-BY 2.0 (France) Attribution: tatoeba.org #8216127 (CK) & #8220797 (MisterTrouser)'],\n",
       "       ['its a lot of fun to listen to music',\n",
       "        'musik zu hören macht sehr viel spaß',\n",
       "        'CC-BY 2.0 (France) Attribution: tatoeba.org #7810549 (CM) & #330601 (Sprachprofi)'],\n",
       "       ['its a matter of personal preference',\n",
       "        'das ist eine frage des persönlichen geschmacks',\n",
       "        'CC-BY 2.0 (France) Attribution: tatoeba.org #4590023 (Hybrid) & #6932886 (Pfirsichbaeumchen)']],\n",
       "      dtype='<U537')"
      ]
     },
     "execution_count": 7,
     "metadata": {},
     "output_type": "execute_result"
    }
   ],
   "source": [
    "# convert text to lowercase\n",
    "for i in range(len(deu_eng)):\n",
    "    deu_eng[i,0] = deu_eng[i,0].lower()\n",
    "    deu_eng[i,1] = deu_eng[i,1].lower()\n",
    "\n",
    "deu_eng"
   ]
  },
  {
   "cell_type": "markdown",
   "metadata": {},
   "source": [
    "### We will capture the lengths of all the sentences in two separate lists for English and German, respectively."
   ]
  },
  {
   "cell_type": "code",
   "execution_count": 8,
   "metadata": {},
   "outputs": [
    {
     "data": {
      "image/png": "[encoded data removed]",
      "text/plain": [
       "<Figure size 432x288 with 2 Axes>"
      ]
     },
     "metadata": {
      "needs_background": "light"
     },
     "output_type": "display_data"
    }
   ],
   "source": [
    "# empty lists\n",
    "eng_l = []\n",
    "deu_l = []\n",
    "\n",
    "# populate the lists with sentence lengths\n",
    "for i in deu_eng[:,0]:\n",
    "      eng_l.append(len(i.split()))\n",
    "\n",
    "for i in deu_eng[:,1]:\n",
    "      deu_l.append(len(i.split()))\n",
    "\n",
    "length_df = pd.DataFrame({'eng':eng_l, 'deu':deu_l})\n",
    "\n",
    "length_df.hist(bins = 30)\n",
    "plt.show()"
   ]
  },
  {
   "cell_type": "markdown",
   "metadata": {},
   "source": [
    "### Tokenizers for both the German and English sentences"
   ]
  },
  {
   "cell_type": "code",
   "execution_count": 9,
   "metadata": {},
   "outputs": [],
   "source": [
    "# function to build a tokenizer\n",
    "def tokenization(lines):\n",
    "    tokenizer = Tokenizer()\n",
    "    tokenizer.fit_on_texts(lines)\n",
    "    return tokenizer"
   ]
  },
  {
   "cell_type": "code",
   "execution_count": 10,
   "metadata": {},
   "outputs": [
    {
     "name": "stdout",
     "output_type": "stream",
     "text": [
      "English Vocabulary Size: 12061\n"
     ]
    }
   ],
   "source": [
    "# prepare english tokenizer\n",
    "eng_tokenizer = tokenization(deu_eng[:, 0])\n",
    "eng_vocab_size = len(eng_tokenizer.word_index) + 1\n",
    "\n",
    "eng_length = 8\n",
    "print('English Vocabulary Size: %d' % eng_vocab_size)"
   ]
  },
  {
   "cell_type": "code",
   "execution_count": 11,
   "metadata": {},
   "outputs": [
    {
     "name": "stdout",
     "output_type": "stream",
     "text": [
      "Deutch Vocabulary Size: 23549\n"
     ]
    }
   ],
   "source": [
    "# prepare Deutch tokenizer\n",
    "deu_tokenizer = tokenization(deu_eng[:, 1])\n",
    "deu_vocab_size = len(deu_tokenizer.word_index) + 1\n",
    "\n",
    "deu_length = 8\n",
    "print('Deutch Vocabulary Size: %d' % deu_vocab_size)"
   ]
  },
  {
   "cell_type": "code",
   "execution_count": 12,
   "metadata": {},
   "outputs": [],
   "source": [
    "# encode and pad sequences\n",
    "def encode_sequences(tokenizer, length, lines):\n",
    "    # integer encode sequences\n",
    "    seq = tokenizer.texts_to_sequences(lines)\n",
    "    # pad sequences with 0 values\n",
    "    seq = pad_sequences(seq, maxlen=length, padding='post')\n",
    "    return seq"
   ]
  },
  {
   "cell_type": "code",
   "execution_count": 13,
   "metadata": {},
   "outputs": [],
   "source": [
    "# split data into train and test set\n",
    "train, test = train_test_split(deu_eng, test_size=0.2, random_state = 12)"
   ]
  },
  {
   "cell_type": "markdown",
   "metadata": {},
   "source": [
    "## Encoding the Sentences"
   ]
  },
  {
   "cell_type": "code",
   "execution_count": 14,
   "metadata": {},
   "outputs": [],
   "source": [
    "# A Seq2Seq model requires that we convert both the input and the output sentences \n",
    "# into integer sequences of fixed length\n",
    "\n",
    "# prepare training data\n",
    "trainX = encode_sequences(deu_tokenizer, deu_length, train[:, 1])\n",
    "trainY = encode_sequences(eng_tokenizer, eng_length, train[:, 0])\n",
    "\n",
    "# prepare validation data\n",
    "testX = encode_sequences(deu_tokenizer, deu_length, test[:, 1])\n",
    "testY = encode_sequences(eng_tokenizer, eng_length, test[:, 0])"
   ]
  },
  {
   "cell_type": "markdown",
   "metadata": {},
   "source": [
    "## Sequence-to-Sequence (Seq2Seq) Model Training"
   ]
  },
  {
   "cell_type": "markdown",
   "metadata": {},
   "source": [
    "We’ll start off by defining our Seq2Seq model architecture"
   ]
  },
  {
   "cell_type": "code",
   "execution_count": 15,
   "metadata": {},
   "outputs": [],
   "source": [
    "# Build Netural Machine Translation model\n",
    "def define_model(in_vocab,out_vocab, in_timesteps,out_timesteps,units):\n",
    "    model = Sequential()\n",
    "# For the encoder, we will use an embedding layer and an LSTM layer\n",
    "    model.add(Embedding(in_vocab, units, input_length=in_timesteps, mask_zero=True))\n",
    "    model.add(LSTM(units))\n",
    "    model.add(RepeatVector(out_timesteps))\n",
    "# For the decoder, we will use another LSTM layer followed by a dense layer    \n",
    "    model.add(LSTM(units, return_sequences=True))\n",
    "    model.add(Dense(out_vocab, activation='softmax'))\n",
    "    return model"
   ]
  },
  {
   "cell_type": "code",
   "execution_count": 16,
   "metadata": {},
   "outputs": [
    {
     "name": "stdout",
     "output_type": "stream",
     "text": [
      "Model: \"sequential_1\"\n",
      "_________________________________________________________________\n",
      "Layer (type)                 Output Shape              Param #   \n",
      "=================================================================\n",
      "embedding_1 (Embedding)      (None, 8, 512)            12057088  \n",
      "_________________________________________________________________\n",
      "lstm_1 (LSTM)                (None, 512)               2099200   \n",
      "_________________________________________________________________\n",
      "repeat_vector_1 (RepeatVecto (None, 8, 512)            0         \n",
      "_________________________________________________________________\n",
      "lstm_2 (LSTM)                (None, 8, 512)            2099200   \n",
      "_________________________________________________________________\n",
      "dense_1 (Dense)              (None, 8, 12061)          6187293   \n",
      "=================================================================\n",
      "Total params: 22,442,781\n",
      "Trainable params: 22,442,781\n",
      "Non-trainable params: 0\n",
      "_________________________________________________________________\n"
     ]
    }
   ],
   "source": [
    "# model compilation\n",
    "model = define_model(deu_vocab_size, eng_vocab_size, deu_length, eng_length, 512)\n",
    "model.summary()\n",
    "# Here, I am using RMSprop optimizer and sparse_categorical_crossentropy as a loss function\n",
    "rms = optimizers.RMSprop(lr=0.001)\n",
    "\n",
    "# Compiling the model\n",
    "model.compile(optimizer=rms, loss='sparse_categorical_crossentropy')"
   ]
  },
  {
   "cell_type": "code",
   "execution_count": 17,
   "metadata": {},
   "outputs": [
    {
     "name": "stderr",
     "output_type": "stream",
     "text": [
      "d:\\pycharmprojects\\sem2\\venv\\lib\\site-packages\\tensorflow_core\\python\\framework\\indexed_slices.py:433: UserWarning: Converting sparse IndexedSlices to a dense Tensor of unknown shape. This may consume a large amount of memory.\n",
      "  \"Converting sparse IndexedSlices to a dense Tensor of unknown shape. \"\n"
     ]
    },
    {
     "name": "stdout",
     "output_type": "stream",
     "text": [
      "Train on 96000 samples, validate on 24000 samples\n",
      "Epoch 1/30\n",
      "96000/96000 [==============================] - 24s 247us/step - loss: 4.2385 - val_loss: 3.8752\n",
      "\n",
      "Epoch 00001: val_loss improved from inf to 3.87518, saving model to model.h1\n",
      "Epoch 2/30\n",
      "96000/96000 [==============================] - 23s 239us/step - loss: 3.6894 - val_loss: 3.5649\n",
      "\n",
      "Epoch 00002: val_loss improved from 3.87518 to 3.56486, saving model to model.h1\n",
      "Epoch 3/30\n",
      "96000/96000 [==============================] - 23s 240us/step - loss: 3.3626 - val_loss: 3.2490\n",
      "\n",
      "Epoch 00003: val_loss improved from 3.56486 to 3.24895, saving model to model.h1\n",
      "Epoch 4/30\n",
      "96000/96000 [==============================] - 23s 241us/step - loss: 3.0501 - val_loss: 2.9616\n",
      "\n",
      "Epoch 00004: val_loss improved from 3.24895 to 2.96157, saving model to model.h1\n",
      "Epoch 5/30\n",
      "96000/96000 [==============================] - 23s 240us/step - loss: 2.7591 - val_loss: 2.7714\n",
      "\n",
      "Epoch 00005: val_loss improved from 2.96157 to 2.77141, saving model to model.h1\n",
      "Epoch 6/30\n",
      "96000/96000 [==============================] - 23s 240us/step - loss: 2.5041 - val_loss: 2.5450\n",
      "\n",
      "Epoch 00006: val_loss improved from 2.77141 to 2.54503, saving model to model.h1\n",
      "Epoch 7/30\n",
      "96000/96000 [==============================] - 23s 241us/step - loss: 2.2798 - val_loss: 2.3988\n",
      "\n",
      "Epoch 00007: val_loss improved from 2.54503 to 2.39882, saving model to model.h1\n",
      "Epoch 8/30\n",
      "96000/96000 [==============================] - 23s 241us/step - loss: 2.0822 - val_loss: 2.3008\n",
      "\n",
      "Epoch 00008: val_loss improved from 2.39882 to 2.30081, saving model to model.h1\n",
      "Epoch 9/30\n",
      "96000/96000 [==============================] - 23s 241us/step - loss: 1.9090 - val_loss: 2.1675\n",
      "\n",
      "Epoch 00009: val_loss improved from 2.30081 to 2.16748, saving model to model.h1\n",
      "Epoch 10/30\n",
      "96000/96000 [==============================] - 23s 241us/step - loss: 1.7551 - val_loss: 2.0584\n",
      "\n",
      "Epoch 00010: val_loss improved from 2.16748 to 2.05840, saving model to model.h1\n",
      "Epoch 11/30\n",
      "96000/96000 [==============================] - 23s 240us/step - loss: 1.6192 - val_loss: 1.9786\n",
      "\n",
      "Epoch 00011: val_loss improved from 2.05840 to 1.97857, saving model to model.h1\n",
      "Epoch 12/30\n",
      "96000/96000 [==============================] - 23s 240us/step - loss: 1.4962 - val_loss: 1.9251\n",
      "\n",
      "Epoch 00012: val_loss improved from 1.97857 to 1.92507, saving model to model.h1\n",
      "Epoch 13/30\n",
      "96000/96000 [==============================] - 23s 241us/step - loss: 1.3858 - val_loss: 1.8826\n",
      "\n",
      "Epoch 00013: val_loss improved from 1.92507 to 1.88255, saving model to model.h1\n",
      "Epoch 14/30\n",
      "96000/96000 [==============================] - 23s 241us/step - loss: 1.2840 - val_loss: 1.8585\n",
      "\n",
      "Epoch 00014: val_loss improved from 1.88255 to 1.85850, saving model to model.h1\n",
      "Epoch 15/30\n",
      "96000/96000 [==============================] - 23s 241us/step - loss: 1.1903 - val_loss: 1.8563\n",
      "\n",
      "Epoch 00015: val_loss improved from 1.85850 to 1.85628, saving model to model.h1\n",
      "Epoch 16/30\n",
      "96000/96000 [==============================] - 23s 241us/step - loss: 1.1041 - val_loss: 1.8184\n",
      "\n",
      "Epoch 00016: val_loss improved from 1.85628 to 1.81840, saving model to model.h1\n",
      "Epoch 17/30\n",
      "96000/96000 [==============================] - 23s 244us/step - loss: 1.0231 - val_loss: 1.8265\n",
      "\n",
      "Epoch 00017: val_loss did not improve from 1.81840\n",
      "Epoch 18/30\n",
      "96000/96000 [==============================] - 23s 245us/step - loss: 0.9481 - val_loss: 1.7990\n",
      "\n",
      "Epoch 00018: val_loss improved from 1.81840 to 1.79895, saving model to model.h1\n",
      "Epoch 19/30\n",
      "96000/96000 [==============================] - 24s 245us/step - loss: 0.8786 - val_loss: 1.7944\n",
      "\n",
      "Epoch 00019: val_loss improved from 1.79895 to 1.79438, saving model to model.h1\n",
      "Epoch 20/30\n",
      "96000/96000 [==============================] - 23s 244us/step - loss: 0.8133 - val_loss: 1.8057\n",
      "\n",
      "Epoch 00020: val_loss did not improve from 1.79438\n",
      "Epoch 21/30\n",
      "96000/96000 [==============================] - 23s 244us/step - loss: 0.7520 - val_loss: 1.8058\n",
      "\n",
      "Epoch 00021: val_loss did not improve from 1.79438\n",
      "Epoch 22/30\n",
      "96000/96000 [==============================] - 24s 246us/step - loss: 0.6946 - val_loss: 1.8107\n",
      "\n",
      "Epoch 00022: val_loss did not improve from 1.79438\n",
      "Epoch 23/30\n",
      "96000/96000 [==============================] - 23s 244us/step - loss: 0.6422 - val_loss: 1.8203\n",
      "\n",
      "Epoch 00023: val_loss did not improve from 1.79438\n",
      "Epoch 24/30\n",
      "96000/96000 [==============================] - 23s 244us/step - loss: 0.5920 - val_loss: 1.8439\n",
      "\n",
      "Epoch 00024: val_loss did not improve from 1.79438\n",
      "Epoch 25/30\n",
      "96000/96000 [==============================] - 23s 244us/step - loss: 0.5476 - val_loss: 1.8473\n",
      "\n",
      "Epoch 00025: val_loss did not improve from 1.79438\n",
      "Epoch 26/30\n",
      "96000/96000 [==============================] - 23s 244us/step - loss: 0.5040 - val_loss: 1.8684\n",
      "\n",
      "Epoch 00026: val_loss did not improve from 1.79438\n",
      "Epoch 27/30\n",
      "96000/96000 [==============================] - 23s 244us/step - loss: 0.4648 - val_loss: 1.9294\n",
      "\n",
      "Epoch 00027: val_loss did not improve from 1.79438\n",
      "Epoch 28/30\n",
      "96000/96000 [==============================] - 23s 245us/step - loss: 0.4283 - val_loss: 1.8941\n",
      "\n",
      "Epoch 00028: val_loss did not improve from 1.79438\n",
      "Epoch 29/30\n",
      "96000/96000 [==============================] - 23s 245us/step - loss: 0.3953 - val_loss: 1.9138\n",
      "\n",
      "Epoch 00029: val_loss did not improve from 1.79438\n",
      "Epoch 30/30\n",
      "96000/96000 [==============================] - 24s 247us/step - loss: 0.3661 - val_loss: 1.9496\n",
      "\n",
      "Epoch 00030: val_loss did not improve from 1.79438\n"
     ]
    }
   ],
   "source": [
    "# Initilizing the model file name\n",
    "filename = 'model.h1'\n",
    "\n",
    "# Adding checkpoint to save model incase error occureed during training \n",
    "# Verbose = 2 display detaiiled infomation about each epochs \n",
    "checkpoint = ModelCheckpoint(filename, monitor='val_loss', verbose=2, save_best_only=True, mode='min')\n",
    "\n",
    "# train model\n",
    "history = model.fit(trainX, trainY.reshape(trainY.shape[0], trainY.shape[1], 1),\n",
    "                    epochs=30, batch_size=512, validation_split = 0.2,callbacks=[checkpoint], \n",
    "                    verbose=1)"
   ]
  },
  {
   "cell_type": "code",
   "execution_count": 18,
   "metadata": {},
   "outputs": [
    {
     "data": {
      "image/png": "[encoded data removed]",
      "text/plain": [
       "<Figure size 432x288 with 1 Axes>"
      ]
     },
     "metadata": {
      "needs_background": "light"
     },
     "output_type": "display_data"
    }
   ],
   "source": [
    "# Training and Validation graph\n",
    "plt.plot(history.history['loss'])\n",
    "plt.plot(history.history['val_loss'])\n",
    "plt.legend(['train','validation'])\n",
    "plt.show()"
   ]
  },
  {
   "cell_type": "markdown",
   "metadata": {},
   "source": [
    "## Prediction"
   ]
  },
  {
   "cell_type": "code",
   "execution_count": 19,
   "metadata": {},
   "outputs": [
    {
     "name": "stderr",
     "output_type": "stream",
     "text": [
      "d:\\pycharmprojects\\sem2\\venv\\lib\\site-packages\\tensorflow_core\\python\\framework\\indexed_slices.py:433: UserWarning: Converting sparse IndexedSlices to a dense Tensor of unknown shape. This may consume a large amount of memory.\n",
      "  \"Converting sparse IndexedSlices to a dense Tensor of unknown shape. \"\n"
     ]
    }
   ],
   "source": [
    "# Loading the Model file\n",
    "model = load_model('model.h1')\n",
    "# Predcting the output\n",
    "preds = model.predict_classes(testX.reshape((testX.shape[0],testX.shape[1])))"
   ]
  },
  {
   "cell_type": "markdown",
   "metadata": {},
   "source": [
    "## Evaluating Model"
   ]
  },
  {
   "cell_type": "code",
   "execution_count": 20,
   "metadata": {},
   "outputs": [],
   "source": [
    "# These predictions are sequences of integers. We need to convert these integers to their corresponding words\n",
    "def get_word(n, tokenizer):\n",
    "    for word, index in tokenizer.word_index.items():\n",
    "        if index == n:\n",
    "            return word\n",
    "    return None"
   ]
  },
  {
   "cell_type": "code",
   "execution_count": 21,
   "metadata": {},
   "outputs": [],
   "source": [
    "# Convert predictions into text (English)\n",
    "preds_text = []\n",
    "for i in preds:\n",
    "    temp = []\n",
    "    for j in range(len(i)):\n",
    "        t = get_word(i[j], eng_tokenizer)\n",
    "        if j > 0:\n",
    "            if (t == get_word(i[j-1], eng_tokenizer)) or (t == None):\n",
    "                 temp.append('')\n",
    "            else:\n",
    "                 temp.append(t)\n",
    "        else:\n",
    "            if(t == None):\n",
    "                temp.append('')\n",
    "            else:\n",
    "                temp.append(t) \n",
    "\n",
    "    preds_text.append(' '.join(temp))"
   ]
  },
  {
   "cell_type": "code",
   "execution_count": 22,
   "metadata": {},
   "outputs": [],
   "source": [
    "# Creating a Dataframe\n",
    "pred_df = pd.DataFrame({'actual' : test[:,0], 'predicted' : preds_text})"
   ]
  },
  {
   "cell_type": "code",
   "execution_count": 23,
   "metadata": {},
   "outputs": [
    {
     "data": {
      "text/html": [
       "<div>\n",
       "<style scoped>\n",
       "    .dataframe tbody tr th:only-of-type {\n",
       "        vertical-align: middle;\n",
       "    }\n",
       "\n",
       "    .dataframe tbody tr th {\n",
       "        vertical-align: top;\n",
       "    }\n",
       "\n",
       "    .dataframe thead th {\n",
       "        text-align: right;\n",
       "    }\n",
       "</style>\n",
       "<table border=\"1\" class=\"dataframe\">\n",
       "  <thead>\n",
       "    <tr style=\"text-align: right;\">\n",
       "      <th></th>\n",
       "      <th>actual</th>\n",
       "      <th>predicted</th>\n",
       "    </tr>\n",
       "  </thead>\n",
       "  <tbody>\n",
       "    <tr>\n",
       "      <th>0</th>\n",
       "      <td>they were both dirty</td>\n",
       "      <td>they were both</td>\n",
       "    </tr>\n",
       "    <tr>\n",
       "      <th>1</th>\n",
       "      <td>how many sisters do you have</td>\n",
       "      <td>how many sisters do you have</td>\n",
       "    </tr>\n",
       "    <tr>\n",
       "      <th>2</th>\n",
       "      <td>dont be alarmed</td>\n",
       "      <td>dont be like</td>\n",
       "    </tr>\n",
       "    <tr>\n",
       "      <th>3</th>\n",
       "      <td>ill manage</td>\n",
       "      <td>ill be</td>\n",
       "    </tr>\n",
       "    <tr>\n",
       "      <th>4</th>\n",
       "      <td>stop being so emotional</td>\n",
       "      <td>stop being so immature</td>\n",
       "    </tr>\n",
       "    <tr>\n",
       "      <th>5</th>\n",
       "      <td>tom makes his own bread</td>\n",
       "      <td>tom makes his own bread</td>\n",
       "    </tr>\n",
       "    <tr>\n",
       "      <th>6</th>\n",
       "      <td>tom could end up being arrested</td>\n",
       "      <td>tom could be the</td>\n",
       "    </tr>\n",
       "    <tr>\n",
       "      <th>7</th>\n",
       "      <td>tom has decided to go</td>\n",
       "      <td>tom has decided to go</td>\n",
       "    </tr>\n",
       "    <tr>\n",
       "      <th>8</th>\n",
       "      <td>tom says no teachers were there</td>\n",
       "      <td>tom said he didnt had a teacher</td>\n",
       "    </tr>\n",
       "    <tr>\n",
       "      <th>9</th>\n",
       "      <td>where on earth were you</td>\n",
       "      <td>what the world  been you</td>\n",
       "    </tr>\n",
       "    <tr>\n",
       "      <th>10</th>\n",
       "      <td>ive come to take you home</td>\n",
       "      <td>ive came to  home</td>\n",
       "    </tr>\n",
       "    <tr>\n",
       "      <th>11</th>\n",
       "      <td>im really pleased to hear that</td>\n",
       "      <td>im glad  to seeing</td>\n",
       "    </tr>\n",
       "    <tr>\n",
       "      <th>12</th>\n",
       "      <td>tom broke his word</td>\n",
       "      <td>tom has his</td>\n",
       "    </tr>\n",
       "    <tr>\n",
       "      <th>13</th>\n",
       "      <td>the hospital is near here</td>\n",
       "      <td>the house is close near</td>\n",
       "    </tr>\n",
       "    <tr>\n",
       "      <th>14</th>\n",
       "      <td>tom is almost never late</td>\n",
       "      <td>tom almost   late</td>\n",
       "    </tr>\n",
       "  </tbody>\n",
       "</table>\n",
       "</div>"
      ],
      "text/plain": [
       "                             actual                         predicted\n",
       "0              they were both dirty               they were both     \n",
       "1      how many sisters do you have    how many sisters do you have  \n",
       "2                   dont be alarmed                 dont be like     \n",
       "3                        ill manage                      ill be      \n",
       "4           stop being so emotional        stop being so immature    \n",
       "5           tom makes his own bread        tom makes his own bread   \n",
       "6   tom could end up being arrested              tom could be the    \n",
       "7             tom has decided to go          tom has decided to go   \n",
       "8   tom says no teachers were there  tom said he didnt had a teacher \n",
       "9           where on earth were you        what the world  been you  \n",
       "10        ive come to take you home              ive came to  home   \n",
       "11   im really pleased to hear that             im glad  to seeing   \n",
       "12               tom broke his word                  tom has his     \n",
       "13        the hospital is near here        the house is close near   \n",
       "14         tom is almost never late              tom almost   late   "
      ]
     },
     "execution_count": 23,
     "metadata": {},
     "output_type": "execute_result"
    }
   ],
   "source": [
    "# print first 15 rows \n",
    "pred_df[:15]"
   ]
  },
  {
   "cell_type": "markdown",
   "metadata": {},
   "source": [
    "### Conculsion\n",
    "\n",
    "Our model of the Seq2Seq does a good job. Yet there are also cases in which it fails to grasp the main terms. For example, it translates “dont be alarmed” to “dont be about”."
   ]
  },
  {
   "cell_type": "markdown",
   "metadata": {},
   "source": [
    "### Recomendation\n",
    "\n",
    "We can easily boost this performance using a more sophisticated encoder-decoder model on a wider dataset."
   ]
  },
  {
   "cell_type": "code",
   "execution_count": null,
   "metadata": {},
   "outputs": [],
   "source": []
  }
 ],
 "metadata": {
  "kernelspec": {
   "display_name": "Python 3",
   "language": "python",
   "name": "python3"
  },
  "language_info": {
   "codemirror_mode": {
    "name": "ipython",
    "version": 3
   },
   "file_extension": ".py",
   "mimetype": "text/x-python",
   "name": "python",
   "nbconvert_exporter": "python",
   "pygments_lexer": "ipython3",
   "version": "3.7.6"
  }
 },
 "nbformat": 4,
 "nbformat_minor": 4
}
